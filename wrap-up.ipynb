{
 "cells": [
  {
   "cell_type": "code",
   "execution_count": 1,
   "id": "f149052a",
   "metadata": {},
   "outputs": [],
   "source": [
    "import pandas as pd\n",
    "import time\n",
    "from selenium import webdriver\n",
    "from selenium.webdriver.support.ui import WebDriverWait\n",
    "from selenium.webdriver.support import expected_conditions as EC\n",
    "from selenium.webdriver.common.keys import Keys\n",
    "from selenium.webdriver.common.by import By\n",
    "from selenium.webdriver.chrome.service import Service\n",
    "from webdriver_manager.chrome import ChromeDriverManager"
   ]
  },
  {
   "cell_type": "code",
   "execution_count": 2,
   "id": "57cc3172",
   "metadata": {},
   "outputs": [],
   "source": [
    "options = webdriver.ChromeOptions()\n",
    "options.add_argument('headless')\n",
    "options.add_argument('window-size=1920x1080')\n",
    "options.add_argument(\"disable-gpu\")\n",
    "options.add_argument(\"User-Agent:Mozilla/5.0 (Macintosh; Intel Mac OS X 10_15_7) AppleWebKit/537.36 (KHTML, like Gecko) Chrome/103.0.0.0 Safari/537.36\")\n",
    "options.add_argument(\"lang=ko_KR\")\n",
    "\n",
    "chromedriver = '/usr/local/chromedriver/chromedriver'\n",
    "driver = webdriver.Chrome(service=Service(chromedriver), options=options)\n",
    "# 크롤링할 사이트\n",
    "driver.get('https://place-site.yanolja.com/places/1010682', )\n",
    "\n",
    "# 첫 접속 시 나오는 튜토리얼 페이지 스킵\n",
    "for i in range(3):\n",
    "    WebDriverWait(driver, 10).until(EC.presence_of_element_located((By.CSS_SELECTOR,\"div.right.css-oq3qu5\"))).click()\n",
    "\n",
    "# 리뷰 페이지로 이동\n",
    "WebDriverWait(driver, 10).until(EC.presence_of_element_located((By.CSS_SELECTOR,\"#__next > div > div > main > article > div:nth-child(2) > div > div.css-ca9ity > div > button:nth-child(5) > a\"))).click()\n",
    "\n",
    "\"\"\"\n",
    "# 리뷰가 가장 적은 곳으로 이동 (test용)\n",
    "WebDriverWait(driver, 10).until(EC.presence_of_element_located((By.CSS_SELECTOR,\"#__next > div > div > main > article > div:nth-child(2) > div > div.css-17c0wg8 > div > div:nth-child(2) > div > div.css-11ega0p > span\"))).click()\n",
    "time.sleep(5)\n",
    "WebDriverWait(driver, 10).until(EC.presence_of_element_located((By.CSS_SELECTOR,\"#BOTTOM_SHEET > div.css-gqqlqe > li:nth-child(5)\"))).click()\n",
    "\"\"\"\n",
    "\n",
    "# 스크롤링하면서 리뷰 더 보기\n",
    "SCROLL_PAUSE_TIME = 1.5\n",
    "last_height = driver.execute_script(\"return document.body.scrollHeight\")\n",
    "while True:\n",
    "    # 스크롤링 4번\n",
    "    for i in range(4):\n",
    "        driver.execute_script(\"window.scrollTo(0, document.body.scrollHeight);\")\n",
    "        time.sleep(SCROLL_PAUSE_TIME)    \n",
    "    new_height = driver.execute_script(\"return document.body.scrollHeight\")\n",
    "    \n",
    "    names_dates = driver.find_elements(By.CSS_SELECTOR, \"div.css-1fd7prz\")\n",
    "    reviews = driver.find_elements(By.CSS_SELECTOR, \"div.css-1wnvjz2\")\n",
    "    \n",
    "    # 스크롤링 종료 조건\n",
    "    if new_height == last_height:\n",
    "        break\n",
    "    last_height = new_height\n",
    "\n",
    "# 크롤링 데이터 데이터프레임화\n",
    "result_dict = []\n",
    "for i in range(len(names_dates)):\n",
    "    result_dict.append({\n",
    "        'NAME,DATE' : names_dates[i].text,\n",
    "        'REVIEW' : reviews[i].text\n",
    "    })\n",
    "result_df = pd.DataFrame(result_dict)\n",
    "\n",
    "driver.quit()"
   ]
  },
  {
   "cell_type": "code",
   "execution_count": 3,
   "id": "45267dff",
   "metadata": {},
   "outputs": [],
   "source": [
    "# 'NAME,DATE' 칼럼을 각각 'NAME', 'DATE'로 변경\n",
    "result_df['NAME,DATE'] = result_df['NAME,DATE'].astype('str')\n",
    "col_name_list = result_df['NAME,DATE'].str.split('\\n')\n",
    "result_df['NAME'] = col_name_list.str.get(0)\n",
    "result_df['DATE'] = col_name_list.str.get(1)\n",
    "result_df = result_df[['NAME', 'DATE', 'REVIEW']]\n",
    "\n",
    "# 현 디렉터리에 .xlsx로 저장\n",
    "result_df.to_excel('result.xlsx')"
   ]
  }
 ],
 "metadata": {
  "kernelspec": {
   "display_name": "Python 3 (ipykernel)",
   "language": "python",
   "name": "python3"
  },
  "language_info": {
   "codemirror_mode": {
    "name": "ipython",
    "version": 3
   },
   "file_extension": ".py",
   "mimetype": "text/x-python",
   "name": "python",
   "nbconvert_exporter": "python",
   "pygments_lexer": "ipython3",
   "version": "3.9.12"
  }
 },
 "nbformat": 4,
 "nbformat_minor": 5
}
